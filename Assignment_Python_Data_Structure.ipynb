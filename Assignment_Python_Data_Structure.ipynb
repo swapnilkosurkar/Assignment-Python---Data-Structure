{
  "nbformat": 4,
  "nbformat_minor": 0,
  "metadata": {
    "colab": {
      "provenance": []
    },
    "kernelspec": {
      "name": "python3",
      "display_name": "Python 3"
    },
    "language_info": {
      "name": "python"
    }
  },
  "cells": [
    {
      "cell_type": "code",
      "execution_count": null,
      "metadata": {
        "id": "MKt9aWeHJsSL"
      },
      "outputs": [],
      "source": []
    },
    {
      "cell_type": "markdown",
      "source": [],
      "metadata": {
        "id": "NGAtaxoqLLkn"
      }
    },
    {
      "cell_type": "markdown",
      "source": [
        "#Question 1. Discuss string slicing and provide examples.?\n",
        "\n",
        "**Answer:** below are the details of slicing :\n",
        "\n",
        "**Syntax:** string[start:stop:step] is the basic syntax for slicing a string. Whereas the stop index is exclusive, the start index is inclusive.\n",
        "\n",
        "**Default Values:** Python sets the start index to 0 if it is omitted. It assumes the end of the string if the stop index is omitted. It defaults to 1 if the step is omitted.\n",
        "\n",
        "**Negative Indices: **You can slice a string starting at the end by using negative indices. As an example, text[-1] denotes the final character, while text[-2] denotes the second-to-last character.\n",
        "\n",
        "**Step Value:** The interval between characters is determined by the step parameter. The string can be reversed by using a negative step, as text[::-1].\n",
        "\n",
        "**Out-of-Bounds Handling: **If the start or stop indices are out of the valid range, Python doesn’t throw an error. Instead, it adjusts the indices to fit within the valid bounds of the string.\n"
      ],
      "metadata": {
        "id": "8imsJlTKJtTZ"
      }
    },
    {
      "cell_type": "code",
      "source": [
        "#Example1:\n",
        "string = \"Virat, Kohli\"\n",
        "slicing = string[1:4]\n",
        "print(slicing)\n"
      ],
      "metadata": {
        "colab": {
          "base_uri": "https://localhost:8080/"
        },
        "id": "w26Esp7uJwxS",
        "outputId": "6ca1baf6-5d74-43be-e6fc-16e321c36aa9"
      },
      "execution_count": null,
      "outputs": [
        {
          "output_type": "stream",
          "name": "stdout",
          "text": [
            "ira\n"
          ]
        }
      ]
    },
    {
      "cell_type": "code",
      "source": [
        "#Example2:\n",
        "string = \"Virat, Kohli\"\n",
        "reversed_string = string[::-1]\n",
        "print(reversed_string)\n"
      ],
      "metadata": {
        "colab": {
          "base_uri": "https://localhost:8080/"
        },
        "id": "SLNh6lMsJw2R",
        "outputId": "5b4a757a-3ae9-4933-a026-bdbe01094fd0"
      },
      "execution_count": null,
      "outputs": [
        {
          "output_type": "stream",
          "name": "stdout",
          "text": [
            "ilhoK ,tariV\n"
          ]
        }
      ]
    },
    {
      "cell_type": "code",
      "source": [
        "#Example3:\n",
        "string = \"Virat, Kohli\"\n",
        "# Reverse slice from index 8 to 2\n",
        "sliced = string[8:2:-1]\n",
        "print(sliced)\n"
      ],
      "metadata": {
        "colab": {
          "base_uri": "https://localhost:8080/"
        },
        "id": "p16n2W7ZKVlh",
        "outputId": "822a7aab-aa58-41b9-b364-b36ca3f21203"
      },
      "execution_count": null,
      "outputs": [
        {
          "output_type": "stream",
          "name": "stdout",
          "text": [
            "oK ,ta\n"
          ]
        }
      ]
    },
    {
      "cell_type": "code",
      "source": [],
      "metadata": {
        "id": "Lpjaw4n2Kbf0"
      },
      "execution_count": null,
      "outputs": []
    },
    {
      "cell_type": "markdown",
      "source": [
        "#Question 2. Explain the key features of lists in Python.\n",
        "**Answer:**  below are the key features of the list:\n",
        "\n",
        "**1.Mutable**\n",
        "Lists in Python are mutable, meaning you can change the elements after the list has been created. You can add, remove, or modify elements in the list.\n"
      ],
      "metadata": {
        "id": "4beV6MUbKwzy"
      }
    },
    {
      "cell_type": "code",
      "source": [
        "#Example: Mutable\n",
        "my_list = [1, 2, 3,4,5]\n",
        "my_list[0] = 0\n",
        "print(my_list)\n"
      ],
      "metadata": {
        "colab": {
          "base_uri": "https://localhost:8080/"
        },
        "id": "H6dwiiQ5Kzqd",
        "outputId": "a63d724d-7fe4-491f-ed5a-3eaba4ff71fe"
      },
      "execution_count": null,
      "outputs": [
        {
          "output_type": "stream",
          "name": "stdout",
          "text": [
            "[0, 2, 3, 4, 5]\n"
          ]
        }
      ]
    },
    {
      "cell_type": "code",
      "source": [],
      "metadata": {
        "id": "f-hRRbXuK40F"
      },
      "execution_count": null,
      "outputs": []
    },
    {
      "cell_type": "markdown",
      "source": [
        "**2.Ordered**\n",
        "Lists maintain the order of elements as they are inserted. The elements can be accessed by their index, starting from 0 for the first element.\n"
      ],
      "metadata": {
        "id": "E-cffhZjLNVQ"
      }
    },
    {
      "cell_type": "code",
      "source": [
        "#Example: Ordered\n",
        "my_list = ['aa', 'bb', 'cc']\n",
        "print(my_list[0])\n"
      ],
      "metadata": {
        "colab": {
          "base_uri": "https://localhost:8080/"
        },
        "id": "fFEBVm1lLPX3",
        "outputId": "0d172825-cbfc-4914-ebb2-464bba7d20de"
      },
      "execution_count": 1,
      "outputs": [
        {
          "output_type": "stream",
          "name": "stdout",
          "text": [
            "aa\n"
          ]
        }
      ]
    },
    {
      "cell_type": "code",
      "source": [],
      "metadata": {
        "id": "8h2F_28HLSLW"
      },
      "execution_count": null,
      "outputs": []
    },
    {
      "cell_type": "markdown",
      "source": [
        "**3.Heterogeneous**\n",
        "A list can contain elements of different data types, including integers, floats, strings, or even other lists.\n"
      ],
      "metadata": {
        "id": "DqKSesA1LYn_"
      }
    },
    {
      "cell_type": "code",
      "source": [
        "#Example: Heterogeneous\n",
        "my_list = [11,22, \"Hello\", 3.5, [2, 4]]\n",
        "print(my_list)\n"
      ],
      "metadata": {
        "colab": {
          "base_uri": "https://localhost:8080/"
        },
        "id": "7Pkdb7vXLaQP",
        "outputId": "effc16a8-d313-4192-9998-3cd08dc1969b"
      },
      "execution_count": 2,
      "outputs": [
        {
          "output_type": "stream",
          "name": "stdout",
          "text": [
            "[11, 22, 'Hello', 3.5, [2, 4]]\n"
          ]
        }
      ]
    },
    {
      "cell_type": "code",
      "source": [],
      "metadata": {
        "id": "4x8p0cl_LcLQ"
      },
      "execution_count": null,
      "outputs": []
    },
    {
      "cell_type": "markdown",
      "source": [
        "**4.Dynamic Size**\n",
        "Lists can grow or shrink dynamically. You can add new elements using methods like append(), insert(), or extend(), and remove elements using remove(), pop(), or clear().\n"
      ],
      "metadata": {
        "id": "CyciWbiLLfMu"
      }
    },
    {
      "cell_type": "code",
      "source": [
        "#Example: Dynamic Size\n",
        "my_list = [21, 22, 33]\n",
        "my_list.append(44)  # List after append [21, 22, 33, 44]\n",
        "my_list.pop()      # List after pop [1, 2, 3]\n"
      ],
      "metadata": {
        "colab": {
          "base_uri": "https://localhost:8080/"
        },
        "id": "TaW3xj-zLhwv",
        "outputId": "82947e8b-1e7f-410d-801f-ebd4e45eb44b"
      },
      "execution_count": 3,
      "outputs": [
        {
          "output_type": "execute_result",
          "data": {
            "text/plain": [
              "44"
            ]
          },
          "metadata": {},
          "execution_count": 3
        }
      ]
    },
    {
      "cell_type": "code",
      "source": [],
      "metadata": {
        "id": "OKIANFpELkmj"
      },
      "execution_count": null,
      "outputs": []
    },
    {
      "cell_type": "markdown",
      "source": [
        "**5.Slicing**\n",
        "Slicing, similar to strings, allowing you to access parts of the list by specifying a range of indices.\n"
      ],
      "metadata": {
        "id": "anlYY0zwLzxN"
      }
    },
    {
      "cell_type": "code",
      "source": [
        "#Example: Slicing\n",
        "my_list = [22, 33, 44, 55, 66]\n",
        "sub_list = my_list[1:2]\n",
        "print(my_list )\n",
        "print(sub_list)\n"
      ],
      "metadata": {
        "colab": {
          "base_uri": "https://localhost:8080/"
        },
        "id": "PDjtk-XqL1zn",
        "outputId": "8bc08311-0b7c-43c6-d830-d8786eb49fa0"
      },
      "execution_count": 4,
      "outputs": [
        {
          "output_type": "stream",
          "name": "stdout",
          "text": [
            "[22, 33, 44, 55, 66]\n",
            "[33]\n"
          ]
        }
      ]
    },
    {
      "cell_type": "code",
      "source": [],
      "metadata": {
        "id": "n3Es7LDqL4OV"
      },
      "execution_count": null,
      "outputs": []
    },
    {
      "cell_type": "markdown",
      "source": [
        "**6.Iterable**\n",
        "Lists are iterable, meaning you can loop over them using a for loop or any iterator.\n"
      ],
      "metadata": {
        "id": "Z7-XJY8HL92u"
      }
    },
    {
      "cell_type": "code",
      "source": [
        "#Example: Iterable\n",
        "my_list = [23, 46, 52]\n",
        "for item in my_list:\n",
        "    print(item)\n"
      ],
      "metadata": {
        "colab": {
          "base_uri": "https://localhost:8080/"
        },
        "id": "yiLlE5KnL_dt",
        "outputId": "b9abcc44-62b8-40ee-cbaa-76e51dfdcbdf"
      },
      "execution_count": 5,
      "outputs": [
        {
          "output_type": "stream",
          "name": "stdout",
          "text": [
            "23\n",
            "46\n",
            "52\n"
          ]
        }
      ]
    },
    {
      "cell_type": "code",
      "source": [],
      "metadata": {
        "id": "NoI32kRiMCnG"
      },
      "execution_count": null,
      "outputs": []
    },
    {
      "cell_type": "markdown",
      "source": [
        "There are some built in methods, such as:\n",
        "**append()**: Adds an element to the end.\n",
        "\n",
        "**extend():** Extends the list by appending elements from an iterable.\n",
        "\n",
        "**insert(): **Inserts an element at a specified index.\n",
        "\n",
        "**remove():** Removes the first occurrence of an element.\n",
        "\n",
        "**pop(): **Removes and returns the element at a given position (default is the last element).\n",
        "\n",
        "**sort(): **Sorts the list in ascending order (can be customized).\n",
        "\n",
        "**reverse()**: Reverses the elements of the list in place.\n",
        "\n",
        "\n",
        "List can Contain Duplicate Elements\n",
        "Lists can have duplicate elements. Unlike sets, they don’t enforce unique items.\n",
        "#Example:\n",
        "my_list = [1, 2, 2, 3, 3, 3]\n",
        "\n"
      ],
      "metadata": {
        "id": "RBR25KjcMLvQ"
      }
    },
    {
      "cell_type": "code",
      "source": [
        "\n"
      ],
      "metadata": {
        "id": "GVufrLkpM2im"
      },
      "execution_count": null,
      "outputs": []
    },
    {
      "cell_type": "markdown",
      "source": [
        "#Question 3. Describe how to access, modify, and delete elements in a list with examples.\n",
        "\n",
        "**Answer: **\n",
        "\n",
        "**Accessing elements in a list:**\n",
        "\n",
        "An element in a list can be accessed by using its index. Python uses zero-based indexing, so the first element is at index 0, the second at index 1, and so on. You can also use negative indexing to access elements from the end of the list.\n",
        "\n",
        "#Examples: access\n",
        "# List of letter\n",
        "letter = [\"A\", \"B\", \"C\", \"D\"]\n",
        "\n",
        "# Accessing elements\n",
        "print(letter[0])   # Output: A\n",
        "print(letter[2])   # Output: C\n",
        "\n",
        "# Accessing elements with negative indexing\n",
        "print(letter[-1])  # Output: D (last element)\n",
        "print(letter[-3])  # Output: B(third element from the end)\n",
        "Modifying Elements in a List :\n",
        "You can modify elements in a list by assigning new values to specific indices.\n",
        "\n",
        "# List of letter\n",
        "letter = [\"A\", \"B\", \"C\"]\n",
        "\n",
        "# Modifying an element\n",
        "letter[1] = \"D\"\n",
        "print(letter)  # Output: ['A', 'D', 'C']\n",
        "\n",
        "**Deleting Elements from a List :**\n",
        "\n",
        "There are several ways to delete elements from a list:\n",
        "\n",
        "1. del statement\n",
        "2. remove() method\n",
        "3. pop() method"
      ],
      "metadata": {
        "id": "kSm72b_QM3th"
      }
    },
    {
      "cell_type": "code",
      "source": [],
      "metadata": {
        "id": "z_no9oYvNNYe"
      },
      "execution_count": null,
      "outputs": []
    },
    {
      "cell_type": "markdown",
      "source": [
        "1. del method:You can use del to delete elements at a specific index or to delete the entire list."
      ],
      "metadata": {
        "id": "lo_Id7qmNYAH"
      }
    },
    {
      "cell_type": "code",
      "source": [
        "# List of letter\n",
        "letter = [\"A\", \"B\", \"C\"]\n"
      ],
      "metadata": {
        "id": "6CiVxKK2Ndy3"
      },
      "execution_count": 7,
      "outputs": []
    },
    {
      "cell_type": "code",
      "source": [
        "# Deleting an element by index\n",
        "del letter[1]\n",
        "print(letter)\n"
      ],
      "metadata": {
        "colab": {
          "base_uri": "https://localhost:8080/"
        },
        "id": "5XVcRuA-NeyK",
        "outputId": "87c57a41-79a5-40a6-f3d9-4955f367e97e"
      },
      "execution_count": 8,
      "outputs": [
        {
          "output_type": "stream",
          "name": "stdout",
          "text": [
            "['A', 'C']\n"
          ]
        }
      ]
    },
    {
      "cell_type": "code",
      "source": [
        "# Deleting a slice of elements\n",
        "letter = [\"A\", \"B\", \"C\", \"D\"]\n",
        "del letter[1:3]\n",
        "print(letter)\n"
      ],
      "metadata": {
        "colab": {
          "base_uri": "https://localhost:8080/"
        },
        "id": "ElpLUtT2No1B",
        "outputId": "5b95fbfd-2b59-4bf5-ef59-475400f5d8a4"
      },
      "execution_count": 9,
      "outputs": [
        {
          "output_type": "stream",
          "name": "stdout",
          "text": [
            "['A', 'D']\n"
          ]
        }
      ]
    },
    {
      "cell_type": "code",
      "source": [],
      "metadata": {
        "id": "ZeWbDwoCNsO-"
      },
      "execution_count": null,
      "outputs": []
    },
    {
      "cell_type": "markdown",
      "source": [
        "**2.remove() menthod:  **\n",
        "\n",
        "The remove() method removes the first occurrence of a specified value."
      ],
      "metadata": {
        "id": "TXB577Y5N1Tk"
      }
    },
    {
      "cell_type": "code",
      "source": [
        "#Example : List of letter\n",
        "letter = [\"A\", \"B\", \"C\", \"B\"]\n",
        "# Removing the first occurrence of \"B\"\n",
        "letter.remove(\"B\")\n",
        "print(letter)\n"
      ],
      "metadata": {
        "colab": {
          "base_uri": "https://localhost:8080/"
        },
        "id": "NLaXJacOOHQe",
        "outputId": "59ec6854-5e75-42bc-844c-c65569dc603e"
      },
      "execution_count": 12,
      "outputs": [
        {
          "output_type": "stream",
          "name": "stdout",
          "text": [
            "['A', 'C', 'B']\n"
          ]
        }
      ]
    },
    {
      "cell_type": "code",
      "source": [],
      "metadata": {
        "id": "KsXm4fCiN7i5"
      },
      "execution_count": null,
      "outputs": []
    },
    {
      "cell_type": "markdown",
      "source": [
        "**3.pop() method: **\n",
        "\n",
        "The pop() method removes and returns the element at a specified index. If no index is specified, it removes the last element.\n"
      ],
      "metadata": {
        "id": "3h2VWNajOZ5o"
      }
    },
    {
      "cell_type": "code",
      "source": [
        "# List of letter\n",
        "letter = [\"A\", \"B\", \"B\"]\n",
        "# Removing and returning the last element\n",
        "last_letter = letter.pop()\n",
        "print(letter)      # Output: ['A', 'B']\n",
        "print(last_letter)  # Output: B\n"
      ],
      "metadata": {
        "colab": {
          "base_uri": "https://localhost:8080/"
        },
        "id": "fvadoT70O3wc",
        "outputId": "db836209-72a7-48aa-db27-a741c2279e0f"
      },
      "execution_count": 13,
      "outputs": [
        {
          "output_type": "stream",
          "name": "stdout",
          "text": [
            "['A', 'B']\n",
            "B\n"
          ]
        }
      ]
    },
    {
      "cell_type": "code",
      "source": [
        "# Removing and returning an element at index 0\n",
        "first_letter = letter.pop(0)\n",
        "print(letter)      # Output: ['B']\n",
        "print(first_letter) # Output: A\n"
      ],
      "metadata": {
        "colab": {
          "base_uri": "https://localhost:8080/"
        },
        "id": "ykgz_lIyO4Zd",
        "outputId": "91797a29-fe3f-4fac-d9fb-c644052f2116"
      },
      "execution_count": 14,
      "outputs": [
        {
          "output_type": "stream",
          "name": "stdout",
          "text": [
            "['B']\n",
            "A\n"
          ]
        }
      ]
    },
    {
      "cell_type": "code",
      "source": [],
      "metadata": {
        "id": "5IB1t9UiO7Vu"
      },
      "execution_count": null,
      "outputs": []
    },
    {
      "cell_type": "markdown",
      "source": [
        "#Question 4. Compare and contrast tuples and lists with examples.\n",
        "\n",
        "**Answer:**\n",
        "\n",
        "In Python, both tuples and lists are used to store collections of items. However, they have several important differences in terms of mutability, syntax, and use cases. Here's a detailed comparison:\n",
        "\n",
        "**1. Mutability**\n",
        "\n",
        "**List: **Lists are mutable, meaning you can change, modify, add, or remove elements after the list is created.\n",
        "\n",
        "**Tuple: **Tuples are immutable, meaning once a tuple is created, its elements cannot be changed, added, or removed."
      ],
      "metadata": {
        "id": "QA9tjxzYPF5V"
      }
    },
    {
      "cell_type": "code",
      "source": [
        "#Example: Mutability\n",
        "\n",
        "# List (Mutable)\n",
        "my_list = [11, 22, 33]\n",
        "my_list[1] = 3  # Modifying an element\n",
        "print(my_list)\n"
      ],
      "metadata": {
        "colab": {
          "base_uri": "https://localhost:8080/"
        },
        "id": "beTy2wuDPWPd",
        "outputId": "8de9117d-aa93-487b-be1c-aeb1f1279b79"
      },
      "execution_count": 15,
      "outputs": [
        {
          "output_type": "stream",
          "name": "stdout",
          "text": [
            "[11, 3, 33]\n"
          ]
        }
      ]
    },
    {
      "cell_type": "code",
      "source": [
        "# Tuple (Immutable)\n",
        "my_tuple = (11, 22, 33)\n",
        "# my_tuple[1] = 20  # TypeError\n"
      ],
      "metadata": {
        "id": "HNilDpXnPW-q"
      },
      "execution_count": 17,
      "outputs": []
    },
    {
      "cell_type": "code",
      "source": [],
      "metadata": {
        "id": "A2OT9tOjPlin"
      },
      "execution_count": null,
      "outputs": []
    },
    {
      "cell_type": "markdown",
      "source": [
        "**2. Syntax**\n",
        "\n",
        "List: Lists are created using square brackets [].\n",
        "\n",
        "Tuple: Tuples are created using parentheses ().\n"
      ],
      "metadata": {
        "id": "meJOLG-oP1qv"
      }
    },
    {
      "cell_type": "code",
      "source": [
        "#Example: Syntax\n",
        "# List\n",
        "my_list = [11, 22, 33]\n"
      ],
      "metadata": {
        "id": "o-2RQ6QZP5KO"
      },
      "execution_count": 18,
      "outputs": []
    },
    {
      "cell_type": "code",
      "source": [
        "# Tuple\n",
        "my_tuple = (11, 22, 23)\n"
      ],
      "metadata": {
        "id": "HmwP4vJsP7xu"
      },
      "execution_count": 19,
      "outputs": []
    },
    {
      "cell_type": "code",
      "source": [],
      "metadata": {
        "id": "18IwE23QP-bO"
      },
      "execution_count": null,
      "outputs": []
    },
    {
      "cell_type": "markdown",
      "source": [
        "**3. Performance**\n",
        "\n",
        "Lists:\n",
        "Due to their mutable nature, lists perform operations like iteration and storing more slowly than tuples. Lists are less performant due to the mutability overhead.\n",
        "\n",
        "\n",
        "Tuples:\n",
        "Tuples are faster because they are immutable, so Python can optimize their storage and access.\n",
        "\n",
        "**4. Use Cases**\n",
        "\n",
        "List:\n",
        "Since lists are mutable, they are typically used when you need a dynamic collection of items, which can be modified during the program execution.\n",
        "\n",
        "Tuple:\n",
        "Tuples are used when you need a fixed collection of items that should not be changed. They are also often used for \"fixed data\" like coordinates (x, y), or for returning multiple values from a function.\n",
        "\n",
        "\n",
        "**5. Methods**\n",
        "\n",
        "Lists:\n",
        "Lists have many built-in methods like append(), remove(), pop(), sort(), and reverse() because they are mutable.\n",
        "\n",
        "Tuples:\n",
        "Tuples have very few methods (mainly count() and index()) due to their immutability.\n"
      ],
      "metadata": {
        "id": "de9Pji8SQB11"
      }
    },
    {
      "cell_type": "code",
      "source": [
        "#Example: Methods\n",
        "\n",
        "\n",
        "# List methods\n",
        "my_list = [3, 1, 4]\n",
        "my_list.append(2)   # Adding an element\n",
        "my_list.sort()      # Sorting the list\n",
        "print(my_list)\n"
      ],
      "metadata": {
        "colab": {
          "base_uri": "https://localhost:8080/"
        },
        "id": "t5aFPUDNQi7P",
        "outputId": "70d917a6-852d-4a5e-e153-38a484c628cc"
      },
      "execution_count": 20,
      "outputs": [
        {
          "output_type": "stream",
          "name": "stdout",
          "text": [
            "[1, 2, 3, 4]\n"
          ]
        }
      ]
    },
    {
      "cell_type": "code",
      "source": [
        "# Tuple methods\n",
        "my_tuple = (1, 2, 3, 2)\n",
        "print(my_tuple.count(2))  # Output: 2 (counts occurrences of 2)\n",
        "print(my_tuple.index(3))  # Output: 2 (finds index of first occurrence of 3)\n"
      ],
      "metadata": {
        "colab": {
          "base_uri": "https://localhost:8080/"
        },
        "id": "ZxtFHNQrQmNe",
        "outputId": "7598a21d-00d4-471d-9263-d92ce74dfbf7"
      },
      "execution_count": 21,
      "outputs": [
        {
          "output_type": "stream",
          "name": "stdout",
          "text": [
            "2\n",
            "2\n"
          ]
        }
      ]
    },
    {
      "cell_type": "code",
      "source": [],
      "metadata": {
        "id": "vkfp9W0hQru5"
      },
      "execution_count": null,
      "outputs": []
    },
    {
      "cell_type": "markdown",
      "source": [
        "**6. Size**\n",
        "\n",
        "\n",
        "List:\n",
        "Since lists are mutable and can grow or shrink dynamically, they generally take up more memory because of the additional resources required to manage the changeable structure.\n",
        "\n",
        "Tuple:\n",
        "Tuples are fixed-size and require less memory than lists of the same size.\n",
        "\n",
        "**7. Immutability Benefits**\n",
        "\n",
        "Tuples:\n",
        "Since tuples are immutable, they can be used as dictionary keys or added to sets (which require elements to be hashable and immutable).\n",
        "\n",
        "Lists: Lists cannot be used as dictionary keys or added to sets because they are mutable and thus unhashable.\n"
      ],
      "metadata": {
        "id": "OMaUYmgfQ6R5"
      }
    },
    {
      "cell_type": "code",
      "source": [
        "#Example:\n",
        "\n",
        "# Tuple as a dictionary key\n",
        "my_dict = {(1, 2): \"Point A\", (3, 4): \"Point B\"}\n",
        "print(my_dict[(1, 2)])\n"
      ],
      "metadata": {
        "colab": {
          "base_uri": "https://localhost:8080/"
        },
        "id": "TYwCRr_kRHlW",
        "outputId": "0d54b53d-bf54-4794-f79f-cfc2ba751a1f"
      },
      "execution_count": 23,
      "outputs": [
        {
          "output_type": "stream",
          "name": "stdout",
          "text": [
            "Point A\n"
          ]
        }
      ]
    },
    {
      "cell_type": "code",
      "source": [
        "# List as a dictionary key would raise a TypeError\n",
        "\n",
        "# my_dict = {[1, 2]: \"Point A\"}\n",
        "TypeError: unhashable type: 'list'"
      ],
      "metadata": {
        "id": "K1ow5R44RQIM"
      },
      "execution_count": null,
      "outputs": []
    },
    {
      "cell_type": "markdown",
      "source": [
        "#Question 5. Describe the key features of sets and provide examples of their use.\n",
        "\n",
        "**Answer:**\n",
        "\n",
        "Sets are an abstract data structure in mathematics and computer science that represent a collection of distinct objects, called elements. Sets are fundamental because they help model relationships between objects, such as grouping, comparison, and membership.\n",
        "\n",
        "**Key Features of Sets:**\n",
        "\n",
        "**Unordered Collection: **The elements in a set do not have any specific order. For instance, the set {1, 2, 3} is the same as {3, 1, 2}.\n",
        "\n",
        "**No Duplicate Elements: **Sets do not allow duplicate values. If a duplicate is added, it will only appear once. For example, {1, 1, 2} is equivalent to {1, 2}.\n",
        "\n",
        "**Immutable Elements:** In some implementations (like Python), sets can only contain immutable objects such as numbers, strings, and tuples.\n",
        "\n",
        "**Set Operations:** Sets support various operations:\n",
        "\n",
        "**Union:** Combines all elements from two sets.\n",
        "\n",
        "Example: {1, 2} ∪ {2, 3} = {1, 2, 3}\n",
        "\n",
        "**Intersection:** Finds common elements between sets.\n",
        "\n",
        "Example: {1, 2} ∩ {2, 3} = {2}\n",
        "\n",
        "**Difference:** Finds elements in one set that are not in another.\n",
        "\n",
        "Example: {1, 2} - {2, 3} = {1}\n",
        "\n",
        "**Symmetric Difference:** Finds elements in either set but not in both.\n",
        "\n",
        "Example: {1, 2} Δ {2, 3} = {1, 3}\n",
        "\n",
        "**Membership Testing:** It is easy to check if an element is in a set.\n",
        "\n",
        "Example: In {1, 2, 3}, checking 2 in {1, 2, 3} returns True.\n",
        "\n"
      ],
      "metadata": {
        "id": "bqW370irRp2v"
      }
    },
    {
      "cell_type": "code",
      "source": [
        "#Union Example\n",
        "set_A = [1, 2, 3, 4]\n",
        "set_B = [5, 6, 7, 8]\n",
        "# Convert lists to sets and perform union\n",
        "union = set(set_A).union(set(set_B))\n",
        "print(union)\n"
      ],
      "metadata": {
        "colab": {
          "base_uri": "https://localhost:8080/"
        },
        "id": "7Szq-RPzSP2t",
        "outputId": "286e26f1-538e-4cc6-bf5e-9ec3014a416c"
      },
      "execution_count": 25,
      "outputs": [
        {
          "output_type": "stream",
          "name": "stdout",
          "text": [
            "{1, 2, 3, 4, 5, 6, 7, 8}\n"
          ]
        }
      ]
    },
    {
      "cell_type": "code",
      "source": [
        "#Intersection Example\n",
        "set_A = [1, 2, 3, 4]\n",
        "set_B = [4, 5, 6, 7, 8]\n",
        "\n",
        "# Convert lists to sets and perform intersection\n",
        "intersection = set(set_A).intersection(set(set_B))\n",
        "\n",
        "# Print the intersection result\n",
        "print(intersection)\n"
      ],
      "metadata": {
        "colab": {
          "base_uri": "https://localhost:8080/"
        },
        "id": "hGsJgMRrSQx7",
        "outputId": "810c695b-048c-4889-afbc-d52536bea43d"
      },
      "execution_count": 26,
      "outputs": [
        {
          "output_type": "stream",
          "name": "stdout",
          "text": [
            "{4}\n"
          ]
        }
      ]
    },
    {
      "cell_type": "code",
      "source": [
        "#Difference Example\n",
        "set_A = [1, 2, 3, 4]\n",
        "set_B = [4, 5, 6, 7, 8]\n",
        "\n",
        "# Convert lists to sets and perform difference\n",
        "difference = set(set_A).difference(set(set_B))\n",
        "\n",
        "# Print the difference result\n",
        "print(difference)\n"
      ],
      "metadata": {
        "colab": {
          "base_uri": "https://localhost:8080/"
        },
        "id": "U7kNfk8YST8e",
        "outputId": "585f59ab-11cd-451a-8781-03cd6fd70eaf"
      },
      "execution_count": 27,
      "outputs": [
        {
          "output_type": "stream",
          "name": "stdout",
          "text": [
            "{1, 2, 3}\n"
          ]
        }
      ]
    },
    {
      "cell_type": "code",
      "source": [
        "#Membership Testing Example\n",
        "\n",
        "set_A = [1, 2, 3, 4]\n",
        "set_B = [4, 5, 6, 7, 8]\n",
        "\n",
        "# Convert lists to sets\n",
        "set_A = set(set_A)\n",
        "set_B = set(set_B)\n"
      ],
      "metadata": {
        "id": "t2JPMUdQSbFK"
      },
      "execution_count": 28,
      "outputs": []
    },
    {
      "cell_type": "code",
      "source": [
        "# Membership testing: Check if 3 is in set_A\n",
        "is_member = 3 in set_A\n",
        "\n",
        "# Print the membership result\n",
        "print(is_member)\n"
      ],
      "metadata": {
        "colab": {
          "base_uri": "https://localhost:8080/"
        },
        "id": "3FcHllMVShDA",
        "outputId": "35a2fb54-f883-4a8f-ab4d-bf37f868c6fd"
      },
      "execution_count": 29,
      "outputs": [
        {
          "output_type": "stream",
          "name": "stdout",
          "text": [
            "True\n"
          ]
        }
      ]
    },
    {
      "cell_type": "code",
      "source": [],
      "metadata": {
        "id": "hEGatBJDSl-F"
      },
      "execution_count": null,
      "outputs": []
    },
    {
      "cell_type": "markdown",
      "source": [
        "#6. Discuss the use cases of tuples and sets in Python programming.\n",
        "\n",
        "**Answer:**\n",
        "\n",
        "In Python, tuples and sets are both collection data types, but they serve different purposes and have distinct characteristics. Let's explore their use cases.\n",
        "\n",
        "**1. Tuples**\n",
        "\n",
        "A tuple is an immutable, ordered collection that can store a fixed number of elements. Each element can be of any data type.\n",
        "\n",
        "**Key Characteristics of Tuples:**\n",
        "\n",
        "**Immutable:** Once a tuple is created, it cannot be modified (i.e., you can't add, remove, or change elements).\n",
        "\n",
        "**Ordered: **The order of elements in a tuple is preserved, and you can access elements via indexing.\n",
        "\n",
        "**Heterogeneous: **A tuple can store elements of different data types (e.g., integers, strings, lists).\n",
        "\n",
        "\n",
        "**Use Cases of Tuples:**\n",
        "\n",
        "**Fixed collections of items:** When you have a set of values that logically belong together and shouldn't change, such as a date (year, month, day), or geographic coordinates (latitude, longitude).\n",
        "\n",
        "**Function return values:** When a function needs to return multiple values, tuples provide an efficient way to return them as a single object.\n",
        "\n",
        "**Dictionary keys:** Since tuples are immutable, they can be used as keys in dictionaries (whereas lists can't be). This is useful for cases where a compound key is needed, such as in multi-dimensional data.\n",
        "\n",
        "**Efficient memory usage:** Because of their immutability, tuples can be more memory-efficient than lists, making them preferable for large collections of fixed-size data.\n",
        "\n",
        "\n",
        "**2. Sets**\n",
        "\n",
        "A set is an unordered collection of unique elements. Unlike lists or tuples, sets do not allow duplicates.\n",
        "\n",
        "**Key Characteristics of Sets:**\n",
        "\n",
        "**Mutable: **Sets are mutable, meaning you can add or remove elements.\n",
        "\n",
        "**Unordered: **Sets do not maintain any specific order for elements, and they cannot be accessed via an index.\n",
        "\n",
        "**Unique elements: **Sets automatically eliminate duplicate values.\n",
        "\n",
        "\n",
        "**Use Cases of Sets:**\n",
        "\n",
        "**Removing duplicates: **\n",
        "One of the most common use cases of a set is to eliminate duplicate elements from a collection, such as a list.\n",
        "\n",
        "**Mathematical set operations: **Sets support standard mathematical operations such as union, intersection, difference, and symmetric difference, which makes them useful in situations involving these types of operations.\n",
        "\n",
        "\n",
        "set1 = {1, 2, 3, 4}\n",
        "\n",
        "set2 = {3, 4, 5, 6}\n",
        "\n",
        "union = set1 | set2  # {1, 2, 3, 4, 5, 6}\n",
        "\n",
        "intersection = set1 & set2  # {3, 4}\n",
        "\n",
        "difference = set1 - set2  # {1, 2}\n",
        "\n",
        "\n",
        "\n",
        "**Membership testing: **\n",
        "Checking whether an element is present in a set is much faster (O(1) on average) than checking for membership in a list or tuple (O(n)). This makes sets useful in situations where fast lookups are important.\n",
        "vowels = {'a', 'e', 'i', 'o', 'u'}\n",
        "'a' in vowels  # True\n",
        "\n",
        "\n",
        "**Handling unordered collections:**\n",
        "When you need to manage a collection of elements where order does not matter and duplicates should not exist, sets are the ideal data structure.\n"
      ],
      "metadata": {
        "id": "OaBJQSWISyIX"
      }
    },
    {
      "cell_type": "code",
      "source": [
        "\n"
      ],
      "metadata": {
        "id": "DMPDRAJfT60d"
      },
      "execution_count": null,
      "outputs": []
    },
    {
      "cell_type": "markdown",
      "source": [
        "#Question 7. Describe how to odd, modify, and delete items in a dictionary with examples.\n",
        "\n",
        "**Answer: **\n",
        "In Python, dictionaries store data as key-value pairs. You can perform several operations on dictionaries, such as adding, modifying, and deleting items.\n",
        "\n",
        "\n",
        "**1. Adding Items to a Dictionary**\n",
        "You can add items to a dictionary by simply assigning a value to a new key.\n"
      ],
      "metadata": {
        "id": "sRsDK8luT78M"
      }
    },
    {
      "cell_type": "code",
      "source": [
        "#Example\n",
        "\n",
        "# Create an empty dictionary\n",
        "my_dict = {}\n",
        "\n",
        "# Add a key-value pair\n",
        "my_dict['name'] = 'Swapnil'\n",
        "my_dict['age'] = 33\n",
        "print(my_dict)\n"
      ],
      "metadata": {
        "colab": {
          "base_uri": "https://localhost:8080/"
        },
        "id": "90mg7U-AUDAG",
        "outputId": "ad1bf4f5-d87c-4d1f-f166-d992b2ad673a"
      },
      "execution_count": 30,
      "outputs": [
        {
          "output_type": "stream",
          "name": "stdout",
          "text": [
            "{'name': 'Swapnil', 'age': 33}\n"
          ]
        }
      ]
    },
    {
      "cell_type": "code",
      "source": [],
      "metadata": {
        "id": "0gl1WzckUEVD"
      },
      "execution_count": null,
      "outputs": []
    },
    {
      "cell_type": "markdown",
      "source": [
        "**2. Modifying Items in a Dictionary**\n",
        "\n",
        "To modify a value in the dictionary, you reference the key and assign it a new value.\n"
      ],
      "metadata": {
        "id": "4i0EHbRHUHRH"
      }
    },
    {
      "cell_type": "code",
      "source": [
        "#Example\n",
        "\n",
        "# Modify the value of an existing key\n",
        "my_dict['age'] = 36\n",
        "print(my_dict)\n"
      ],
      "metadata": {
        "colab": {
          "base_uri": "https://localhost:8080/"
        },
        "id": "Up76z93gUOYM",
        "outputId": "9f06b925-83e8-44c9-cbda-0ebc8f6792a5"
      },
      "execution_count": 31,
      "outputs": [
        {
          "output_type": "stream",
          "name": "stdout",
          "text": [
            "{'name': 'Swapnil', 'age': 36}\n"
          ]
        }
      ]
    },
    {
      "cell_type": "code",
      "source": [],
      "metadata": {
        "id": "DJZGsQnhUPsq"
      },
      "execution_count": null,
      "outputs": []
    },
    {
      "cell_type": "markdown",
      "source": [
        "**3.Deleting Items from a Dictionary**\n",
        "\n",
        "You can remove items from a dictionary using several methods:\n",
        "\n",
        "**del** statement\n",
        "\n",
        "**pop() **method\n",
        "\n",
        "**popitem()** method (removes the last item in Python)\n",
        "\n",
        "**clear()** method (removes all items)\n"
      ],
      "metadata": {
        "id": "tzWeNrjhUTrJ"
      }
    },
    {
      "cell_type": "code",
      "source": [
        "#Example using del:\n",
        "\n",
        "# Define a dictionary\n",
        "my_dict = {\n",
        "    'name': 'Swapnil',\n",
        "    'age': 36,\n",
        "    'city': 'India'\n",
        "}\n",
        "\n",
        "# Delete the key-value pair where the key is 'name'\n",
        "del my_dict['name']\n",
        "\n",
        "# Print the modified dictionary\n",
        "print(my_dict)\n",
        "\n"
      ],
      "metadata": {
        "colab": {
          "base_uri": "https://localhost:8080/"
        },
        "id": "JooosO32UqEf",
        "outputId": "8d8b63da-9808-4b7c-a414-f3053740b09b"
      },
      "execution_count": 35,
      "outputs": [
        {
          "output_type": "stream",
          "name": "stdout",
          "text": [
            "{'age': 36, 'city': 'India'}\n"
          ]
        }
      ]
    },
    {
      "cell_type": "code",
      "source": [
        "#Example using pop():\n",
        "\n",
        "# Remove a key-value pair and return the value\n",
        "age = my_dict.pop('age')\n",
        "\n",
        "print(age)     # Output: 36\n",
        "print(my_dict) # Output: {'city': 'India'}\n"
      ],
      "metadata": {
        "colab": {
          "base_uri": "https://localhost:8080/"
        },
        "id": "W3vcQZkLUre5",
        "outputId": "8c8f8f9f-c82a-4c8a-a184-eee236337a92"
      },
      "execution_count": 36,
      "outputs": [
        {
          "output_type": "stream",
          "name": "stdout",
          "text": [
            "36\n",
            "{'city': 'India'}\n"
          ]
        }
      ]
    },
    {
      "cell_type": "code",
      "source": [
        "#Example using popitem():\n",
        "\n",
        "# Add new items\n",
        "my_dict['city'] = 'Mumbai'\n",
        "my_dict['country'] = 'India'\n",
        "# Remove the last inserted item\n",
        "last_item = my_dict.popitem()\n",
        "\n",
        "print(last_item)  # Output: ('country', 'India')\n",
        "print(my_dict)    # Output: {'city': 'Mumbai'}\n"
      ],
      "metadata": {
        "colab": {
          "base_uri": "https://localhost:8080/"
        },
        "id": "zHvxjOZNVaW1",
        "outputId": "a2a7e986-110c-4f84-bf66-dbf2d490e99e"
      },
      "execution_count": 37,
      "outputs": [
        {
          "output_type": "stream",
          "name": "stdout",
          "text": [
            "('country', 'India')\n",
            "{'city': 'Mumbai'}\n"
          ]
        }
      ]
    },
    {
      "cell_type": "code",
      "source": [
        "#Example using clear():\n",
        "\n",
        "# Clear all key-value pairs\n",
        "my_dict.clear()\n",
        "print(my_dict)  # Output: {}\n"
      ],
      "metadata": {
        "colab": {
          "base_uri": "https://localhost:8080/"
        },
        "id": "RLOghqP_VtPy",
        "outputId": "df62bfa1-8d6a-4d5c-ca72-79167b1ed15a"
      },
      "execution_count": 38,
      "outputs": [
        {
          "output_type": "stream",
          "name": "stdout",
          "text": [
            "{}\n"
          ]
        }
      ]
    },
    {
      "cell_type": "code",
      "source": [],
      "metadata": {
        "id": "v7vihHjaV0nT"
      },
      "execution_count": null,
      "outputs": []
    },
    {
      "cell_type": "markdown",
      "source": [
        "\n",
        "**Modify:**\n",
        "Update an existing key's value with dict[key] = new_value.\n",
        "\n",
        "**Delete: **\n",
        "Use del dict[key], dict.pop(key), dict.popitem(), or dict.clear() for different deletion use cases.\n"
      ],
      "metadata": {
        "id": "_E4MM6rQV30f"
      }
    },
    {
      "cell_type": "code",
      "source": [
        "\n"
      ],
      "metadata": {
        "id": "5685u5dIWFin"
      },
      "execution_count": null,
      "outputs": []
    },
    {
      "cell_type": "markdown",
      "source": [
        "#Question 8. Discuss the importance of dictionary keys being immutable and provide examples.\n",
        "\n",
        "**Answer: **\n",
        "\n",
        "In Python, dictionary keys must be immutable because dictionaries rely on a hash function to quickly locate and retrieve values associated with those keys. When you insert a key-value pair into a dictionary, Python computes the hash value of the key, which is used to determine where to store the value in memory. If a key were mutable (e.g., a list), its hash value could change, leading to inconsistencies and making it impossible for the dictionary to locate the value associated with that key.\n",
        "\n",
        "\n",
        "**Importance of Immutable Keys**\n",
        "\n",
        "**Consistency: **Immutable keys ensure that the hash value remains constant throughout the lifetime of the key in the dictionary. This consistency is crucial for efficient retrieval and storage.\n",
        "\n",
        "**Performance: **Since dictionaries are designed for quick lookups, using immutable types (like strings, tuples, and frozensets) allows for faster access times, as their hash values remain the same.\n",
        "\n",
        "**Avoiding Errors:** If mutable keys were allowed, any modifications to the key would lead to errors or unexpected behavior when trying to retrieve the associated value.\n"
      ],
      "metadata": {
        "id": "HptDB_urWGb8"
      }
    },
    {
      "cell_type": "code",
      "source": [
        "#Examples\n",
        "\n",
        "#Using Immutable Keys (Strings and Tuples)\n",
        "\n",
        "#Example with string keys (immutable)\n",
        "my_dict = {\n",
        "    \"Rahul\": 1,\n",
        "    \"Rajeev\": 2,\n",
        "    \"Chahal\": 3\n",
        "}\n",
        "print(my_dict[\"Rahul\"])\n"
      ],
      "metadata": {
        "colab": {
          "base_uri": "https://localhost:8080/"
        },
        "id": "hw7KZfbiWWGU",
        "outputId": "cd7328e8-51b8-4902-d205-1d6f52535bc0"
      },
      "execution_count": 39,
      "outputs": [
        {
          "output_type": "stream",
          "name": "stdout",
          "text": [
            "1\n"
          ]
        }
      ]
    },
    {
      "cell_type": "code",
      "source": [
        "# Example with tuple keys (immutable)\n",
        "my_tuple_dict = {\n",
        "    (11, 12): \"point A\",\n",
        "    (13, 14): \"point B\"\n",
        "}\n",
        "print(my_tuple_dict[(11, 12)])\n"
      ],
      "metadata": {
        "colab": {
          "base_uri": "https://localhost:8080/"
        },
        "id": "SX5qwvIZWWtB",
        "outputId": "977354ee-24d2-4c0a-ef3f-28b238ef640c"
      },
      "execution_count": 40,
      "outputs": [
        {
          "output_type": "stream",
          "name": "stdout",
          "text": [
            "point A\n"
          ]
        }
      ]
    },
    {
      "cell_type": "code",
      "source": [
        "#Attempting to Use Mutable Keys (Lists)\n",
        "\n",
        "#This will raise an error because lists are mutable\n",
        "\n",
        "try:\n",
        "    my_dict = {\n",
        "        [1, 2]: \"value2\"  # Trying to use a list as a key\n",
        "    }\n",
        "except TypeError as e:\n",
        "    print(e)\n"
      ],
      "metadata": {
        "colab": {
          "base_uri": "https://localhost:8080/"
        },
        "id": "m4T9kIxEWfXz",
        "outputId": "275a9961-4cef-4de9-d31c-0c23f8c21f2b"
      },
      "execution_count": 42,
      "outputs": [
        {
          "output_type": "stream",
          "name": "stdout",
          "text": [
            "unhashable type: 'list'\n"
          ]
        }
      ]
    },
    {
      "cell_type": "code",
      "source": [
        "# Example with frozenset keys (immutable)\n",
        "my_frozenset_dict = {\n",
        "    frozenset([11, 12]): \"set1\",\n",
        "    frozenset([13, 14]): \"set2\"\n",
        "}\n",
        "print(my_frozenset_dict[frozenset([11, 12])])\n"
      ],
      "metadata": {
        "colab": {
          "base_uri": "https://localhost:8080/"
        },
        "id": "5cjdPO_uWjpd",
        "outputId": "520a6b0b-1e7b-4522-f93c-519de9e3e64a"
      },
      "execution_count": 43,
      "outputs": [
        {
          "output_type": "stream",
          "name": "stdout",
          "text": [
            "set1\n"
          ]
        }
      ]
    },
    {
      "cell_type": "code",
      "source": [],
      "metadata": {
        "id": "FQ17DE0cWsj6"
      },
      "execution_count": null,
      "outputs": []
    },
    {
      "cell_type": "markdown",
      "source": [
        "\n",
        "For dictionaries in Python to function well and maintain their integrity, dictionary keys need to be immutable in order for their hash values remain constant. Using immutable types like strings, tuples, and frozensets as Keys offer reliable methods for storing and retrieving data while helping in avoiding errors.\n",
        "\n",
        "\n",
        "================================**TheEnd**=========================="
      ],
      "metadata": {
        "id": "3GGd3jceWwFH"
      }
    }
  ]
}